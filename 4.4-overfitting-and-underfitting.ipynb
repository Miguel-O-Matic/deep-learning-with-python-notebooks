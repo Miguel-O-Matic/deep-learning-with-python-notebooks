{
 "cells": [
  {
   "cell_type": "code",
   "execution_count": 1,
   "metadata": {},
   "outputs": [
    {
     "name": "stderr",
     "output_type": "stream",
     "text": [
      "Using TensorFlow backend.\n"
     ]
    },
    {
     "data": {
      "text/plain": [
       "'2.1.3'"
      ]
     },
     "execution_count": 1,
     "metadata": {},
     "output_type": "execute_result"
    }
   ],
   "source": [
    "import keras\n",
    "keras.__version__"
   ]
  },
  {
   "cell_type": "markdown",
   "metadata": {},
   "source": [
    "# Overfitting and underfitting\n",
    "\n",
    "This notebook contains the code samples found in Chapter 3, Section 6 of [Deep Learning with Python](https://www.manning.com/books/deep-learning-with-python?a_aid=keras&a_bid=76564dff). Note that the original text features far more content, in particular further explanations and figures: in this notebook, you will only find source code and related comments.\n",
    "\n",
    "----\n",
    "\n",
    "\n",
    "In all the examples we saw in the previous chapter -- movie review sentiment prediction, topic classification, and house price regression -- \n",
    "we could notice that the performance of our model on the held-out validation data would always peak after a few epochs and would then start \n",
    "degrading, i.e. our model would quickly start to _overfit_ to the training data. Overfitting happens in every single machine learning \n",
    "problem. Learning how to deal with overfitting is essential to mastering machine learning.\n",
    "\n",
    "The fundamental issue in machine learning is the tension between optimization and generalization. \"Optimization\" refers to the process of \n",
    "adjusting a model to get the best performance possible on the training data (the \"learning\" in \"machine learning\"), while \"generalization\" \n",
    "refers to how well the trained model would perform on data it has never seen before. The goal of the game is to get good generalization, of \n",
    "course, but you do not control generalization; you can only adjust the model based on its training data.\n",
    "\n",
    "At the beginning of training, optimization and generalization are correlated: the lower your loss on training data, the lower your loss on \n",
    "test data. While this is happening, your model is said to be _under-fit_: there is still progress to be made; the network hasn't yet \n",
    "modeled all relevant patterns in the training data. But after a certain number of iterations on the training data, generalization stops \n",
    "improving, validation metrics stall then start degrading: the model is then starting to over-fit, i.e. is it starting to learn patterns \n",
    "that are specific to the training data but that are misleading or irrelevant when it comes to new data.\n",
    "\n",
    "To prevent a model from learning misleading or irrelevant patterns found in the training data, _the best solution is of course to get \n",
    "more training data_. A model trained on more data will naturally generalize better. When that is no longer possible, the next best solution \n",
    "is to modulate the quantity of information that your model is allowed to store, or to add constraints on what information it is allowed to \n",
    "store. If a network can only afford to memorize a small number of patterns, the optimization process will force it to focus on the most \n",
    "prominent patterns, which have a better chance of generalizing well.\n",
    "\n",
    "The processing of fighting overfitting in this way is called _regularization_. Let's review some of the most common regularization \n",
    "techniques, and let's apply them in practice to improve our movie classification model from  the previous chapter."
   ]
  },
  {
   "cell_type": "markdown",
   "metadata": {},
   "source": [
    "Note: in this notebook we will be using the IMDB test set as our validation set. It doesn't matter in this context.\n",
    "\n",
    "Let's prepare the data using the code from Chapter 3, Section 5:"
   ]
  },
  {
   "cell_type": "code",
   "execution_count": 2,
   "metadata": {
    "collapsed": true
   },
   "outputs": [],
   "source": [
    "from keras.datasets import imdb\n",
    "import numpy as np\n",
    "\n",
    "(train_data, train_labels), (test_data, test_labels) = imdb.load_data(num_words=10000)\n",
    "\n",
    "def vectorize_sequences(sequences, dimension=10000):\n",
    "    # Create an all-zero matrix of shape (len(sequences), dimension)\n",
    "    results = np.zeros((len(sequences), dimension))\n",
    "    for i, sequence in enumerate(sequences):\n",
    "        results[i, sequence] = 1.  # set specific indices of results[i] to 1s\n",
    "    return results\n",
    "\n",
    "# Our vectorized training data\n",
    "x_train = vectorize_sequences(train_data)\n",
    "# Our vectorized test data\n",
    "x_test = vectorize_sequences(test_data)\n",
    "# Our vectorized labels\n",
    "y_train = np.asarray(train_labels).astype('float32')\n",
    "y_test = np.asarray(test_labels).astype('float32')"
   ]
  },
  {
   "cell_type": "markdown",
   "metadata": {},
   "source": [
    "# Fighting overfitting\n",
    "\n",
    "## Reducing the network's size\n",
    "\n",
    "\n",
    "The simplest way to prevent overfitting is to reduce the size of the model, i.e. the number of learnable parameters in the model (which is \n",
    "determined by the number of layers and the number of units per layer). In deep learning, the number of learnable parameters in a model is \n",
    "often referred to as the model's \"capacity\". Intuitively, a model with more parameters will have more \"memorization capacity\" and therefore \n",
    "will be able to easily learn a perfect dictionary-like mapping between training samples and their targets, a mapping without any \n",
    "generalization power. For instance, a model with 500,000 binary parameters could easily be made to learn the class of every digits in the \n",
    "MNIST training set: we would only need 10 binary parameters for each of the 50,000 digits. Such a model would be useless for classifying \n",
    "new digit samples. Always keep this in mind: deep learning models tend to be good at fitting to the training data, but the real challenge \n",
    "is generalization, not fitting.\n",
    "\n",
    "On the other hand, if the network has limited memorization resources, it will not be able to learn this mapping as easily, and thus, in \n",
    "order to minimize its loss, it will have to resort to learning compressed representations that have predictive power regarding the targets \n",
    "-- precisely the type of representations that we are interested in. At the same time, keep in mind that you should be using models that have \n",
    "enough parameters that they won't be underfitting: your model shouldn't be starved for memorization resources. There is a compromise to be \n",
    "found between \"too much capacity\" and \"not enough capacity\".\n",
    "\n",
    "Unfortunately, there is no magical formula to determine what the right number of layers is, or what the right size for each layer is. You \n",
    "will have to evaluate an array of different architectures (on your validation set, not on your test set, of course) in order to find the \n",
    "right model size for your data. The general workflow to find an appropriate model size is to start with relatively few layers and \n",
    "parameters, and start increasing the size of the layers or adding new layers until you see diminishing returns with regard to the \n",
    "validation loss.\n",
    "\n",
    "Let's try this on our movie review classification network. Our original network was as such:"
   ]
  },
  {
   "cell_type": "code",
   "execution_count": 3,
   "metadata": {
    "collapsed": true
   },
   "outputs": [],
   "source": [
    "from keras import models\n",
    "from keras import layers\n",
    "\n",
    "original_model = models.Sequential()\n",
    "original_model.add(layers.Dense(16, activation='relu', input_shape=(10000,)))\n",
    "original_model.add(layers.Dense(16, activation='relu'))\n",
    "original_model.add(layers.Dense(1, activation='sigmoid'))\n",
    "\n",
    "original_model.compile(optimizer='rmsprop',\n",
    "                       loss='binary_crossentropy',\n",
    "                       metrics=['acc'])"
   ]
  },
  {
   "cell_type": "markdown",
   "metadata": {},
   "source": [
    "Now let's try to replace it with this smaller network:"
   ]
  },
  {
   "cell_type": "code",
   "execution_count": 4,
   "metadata": {
    "collapsed": true
   },
   "outputs": [],
   "source": [
    "smaller_model = models.Sequential()\n",
    "smaller_model.add(layers.Dense(4, activation='relu', input_shape=(10000,)))\n",
    "smaller_model.add(layers.Dense(4, activation='relu'))\n",
    "smaller_model.add(layers.Dense(1, activation='sigmoid'))\n",
    "\n",
    "smaller_model.compile(optimizer='rmsprop',\n",
    "                      loss='binary_crossentropy',\n",
    "                      metrics=['acc'])"
   ]
  },
  {
   "cell_type": "markdown",
   "metadata": {},
   "source": [
    "\n",
    "Here's a comparison of the validation losses of the original network and the smaller network. The dots are the validation loss values of \n",
    "the smaller network, and the crosses are the initial network (remember: a lower validation loss signals a better model)."
   ]
  },
  {
   "cell_type": "code",
   "execution_count": 5,
   "metadata": {},
   "outputs": [
    {
     "name": "stdout",
     "output_type": "stream",
     "text": [
      "Train on 25000 samples, validate on 25000 samples\n",
      "Epoch 1/20\n",
      "25000/25000 [==============================] - 7s 298us/step - loss: 0.4464 - acc: 0.8263 - val_loss: 0.3273 - val_acc: 0.8840\n",
      "Epoch 2/20\n",
      "25000/25000 [==============================] - 5s 217us/step - loss: 0.2566 - acc: 0.9089 - val_loss: 0.2846 - val_acc: 0.8894\n",
      "Epoch 3/20\n",
      "25000/25000 [==============================] - 5s 213us/step - loss: 0.1971 - acc: 0.9303 - val_loss: 0.2850 - val_acc: 0.8870\n",
      "Epoch 4/20\n",
      "25000/25000 [==============================] - 5s 216us/step - loss: 0.1638 - acc: 0.9421 - val_loss: 0.2954 - val_acc: 0.8842\n",
      "Epoch 5/20\n",
      "25000/25000 [==============================] - 5s 217us/step - loss: 0.1400 - acc: 0.9512 - val_loss: 0.3152 - val_acc: 0.8793\n",
      "Epoch 6/20\n",
      "25000/25000 [==============================] - 5s 219us/step - loss: 0.1224 - acc: 0.9577 - val_loss: 0.3559 - val_acc: 0.8712\n",
      "Epoch 7/20\n",
      "25000/25000 [==============================] - 5s 220us/step - loss: 0.1070 - acc: 0.9633 - val_loss: 0.3636 - val_acc: 0.8722\n",
      "Epoch 8/20\n",
      "25000/25000 [==============================] - 5s 217us/step - loss: 0.0944 - acc: 0.9682 - val_loss: 0.4020 - val_acc: 0.8662\n",
      "Epoch 9/20\n",
      "25000/25000 [==============================] - 5s 219us/step - loss: 0.0818 - acc: 0.9722 - val_loss: 0.4306 - val_acc: 0.8636\n",
      "Epoch 10/20\n",
      "25000/25000 [==============================] - 5s 217us/step - loss: 0.0714 - acc: 0.9774 - val_loss: 0.5077 - val_acc: 0.8525\n",
      "Epoch 11/20\n",
      "25000/25000 [==============================] - 6s 224us/step - loss: 0.0653 - acc: 0.9794 - val_loss: 0.4891 - val_acc: 0.8600\n",
      "Epoch 12/20\n",
      "25000/25000 [==============================] - 6s 228us/step - loss: 0.0532 - acc: 0.9836 - val_loss: 0.5355 - val_acc: 0.8560\n",
      "Epoch 13/20\n",
      "25000/25000 [==============================] - 6s 243us/step - loss: 0.0488 - acc: 0.9851 - val_loss: 0.5457 - val_acc: 0.8581\n",
      "Epoch 14/20\n",
      "25000/25000 [==============================] - 6s 246us/step - loss: 0.0392 - acc: 0.9890 - val_loss: 0.6096 - val_acc: 0.8520\n",
      "Epoch 15/20\n",
      "25000/25000 [==============================] - 6s 230us/step - loss: 0.0339 - acc: 0.9905 - val_loss: 0.6676 - val_acc: 0.8483\n",
      "Epoch 16/20\n",
      "25000/25000 [==============================] - 6s 243us/step - loss: 0.0273 - acc: 0.9929 - val_loss: 0.6949 - val_acc: 0.8478\n",
      "Epoch 17/20\n",
      "25000/25000 [==============================] - 6s 229us/step - loss: 0.0261 - acc: 0.9926 - val_loss: 0.6955 - val_acc: 0.8516\n",
      "Epoch 18/20\n",
      "25000/25000 [==============================] - 6s 245us/step - loss: 0.0175 - acc: 0.9962 - val_loss: 0.7484 - val_acc: 0.8492\n",
      "Epoch 19/20\n",
      "25000/25000 [==============================] - 6s 243us/step - loss: 0.0205 - acc: 0.9940 - val_loss: 0.7546 - val_acc: 0.8511\n",
      "Epoch 20/20\n",
      "25000/25000 [==============================] - 6s 228us/step - loss: 0.0119 - acc: 0.9982 - val_loss: 0.8571 - val_acc: 0.8443\n"
     ]
    }
   ],
   "source": [
    "original_hist = original_model.fit(x_train, y_train,\n",
    "                                   epochs=20,\n",
    "                                   batch_size=512,\n",
    "                                   validation_data=(x_test, y_test))"
   ]
  },
  {
   "cell_type": "code",
   "execution_count": 6,
   "metadata": {},
   "outputs": [
    {
     "name": "stdout",
     "output_type": "stream",
     "text": [
      "Train on 25000 samples, validate on 25000 samples\n",
      "Epoch 1/20\n",
      "25000/25000 [==============================] - 6s 259us/step - loss: 0.5804 - acc: 0.7027 - val_loss: 0.5309 - val_acc: 0.7558\n",
      "Epoch 2/20\n",
      "25000/25000 [==============================] - 6s 230us/step - loss: 0.4843 - acc: 0.8455 - val_loss: 0.4876 - val_acc: 0.8280\n",
      "Epoch 3/20\n",
      "25000/25000 [==============================] - 6s 247us/step - loss: 0.4389 - acc: 0.8920 - val_loss: 0.4663 - val_acc: 0.8497\n",
      "Epoch 4/20\n",
      "25000/25000 [==============================] - 6s 240us/step - loss: 0.4077 - acc: 0.9154 - val_loss: 0.4526 - val_acc: 0.8663\n",
      "Epoch 5/20\n",
      "25000/25000 [==============================] - 5s 217us/step - loss: 0.3832 - acc: 0.9306 - val_loss: 0.4513 - val_acc: 0.8620\n",
      "Epoch 6/20\n",
      "25000/25000 [==============================] - 5s 216us/step - loss: 0.3620 - acc: 0.9415 - val_loss: 0.4424 - val_acc: 0.8728\n",
      "Epoch 7/20\n",
      "25000/25000 [==============================] - 5s 213us/step - loss: 0.3425 - acc: 0.9515 - val_loss: 0.4489 - val_acc: 0.8671\n",
      "Epoch 8/20\n",
      "25000/25000 [==============================] - 5s 215us/step - loss: 0.3261 - acc: 0.9560 - val_loss: 0.4515 - val_acc: 0.8675\n",
      "Epoch 9/20\n",
      "25000/25000 [==============================] - 5s 214us/step - loss: 0.3099 - acc: 0.9613 - val_loss: 0.4687 - val_acc: 0.8626\n",
      "Epoch 10/20\n",
      "25000/25000 [==============================] - 5s 216us/step - loss: 0.2961 - acc: 0.9649 - val_loss: 0.4632 - val_acc: 0.8649\n",
      "Epoch 11/20\n",
      "25000/25000 [==============================] - 5s 215us/step - loss: 0.2815 - acc: 0.9692 - val_loss: 0.4840 - val_acc: 0.8606\n",
      "Epoch 12/20\n",
      "25000/25000 [==============================] - 5s 215us/step - loss: 0.2684 - acc: 0.9718 - val_loss: 0.4873 - val_acc: 0.8626\n",
      "Epoch 13/20\n",
      "25000/25000 [==============================] - 5s 216us/step - loss: 0.2562 - acc: 0.9753 - val_loss: 0.5214 - val_acc: 0.8574\n",
      "Epoch 14/20\n",
      "25000/25000 [==============================] - 5s 217us/step - loss: 0.2454 - acc: 0.9760 - val_loss: 0.5507 - val_acc: 0.8540\n",
      "Epoch 15/20\n",
      "25000/25000 [==============================] - 5s 216us/step - loss: 0.2340 - acc: 0.9782 - val_loss: 0.5378 - val_acc: 0.8586\n",
      "Epoch 16/20\n",
      "25000/25000 [==============================] - 5s 215us/step - loss: 0.2235 - acc: 0.9802 - val_loss: 0.5300 - val_acc: 0.8582\n",
      "Epoch 17/20\n",
      "25000/25000 [==============================] - 5s 215us/step - loss: 0.2149 - acc: 0.9811 - val_loss: 0.5766 - val_acc: 0.8550\n",
      "Epoch 18/20\n",
      "25000/25000 [==============================] - 5s 216us/step - loss: 0.2052 - acc: 0.9822 - val_loss: 0.5430 - val_acc: 0.8571\n",
      "Epoch 19/20\n",
      "25000/25000 [==============================] - 5s 218us/step - loss: 0.1965 - acc: 0.9830 - val_loss: 0.6403 - val_acc: 0.8494\n",
      "Epoch 20/20\n",
      "25000/25000 [==============================] - 5s 216us/step - loss: 0.1888 - acc: 0.9837 - val_loss: 0.7073 - val_acc: 0.8467\n"
     ]
    }
   ],
   "source": [
    "smaller_model_hist = smaller_model.fit(x_train, y_train,\n",
    "                                       epochs=20,\n",
    "                                       batch_size=512,\n",
    "                                       validation_data=(x_test, y_test))"
   ]
  },
  {
   "cell_type": "code",
   "execution_count": 7,
   "metadata": {
    "collapsed": true
   },
   "outputs": [],
   "source": [
    "epochs = range(1, 21)\n",
    "original_val_loss = original_hist.history['val_loss']\n",
    "smaller_model_val_loss = smaller_model_hist.history['val_loss']"
   ]
  },
  {
   "cell_type": "code",
   "execution_count": 8,
   "metadata": {},
   "outputs": [
    {
     "data": {
      "image/png": "[encoded data removed]",
      "text/plain": [
       "<matplotlib.figure.Figure at 0x266ba4cfda0>"
      ]
     },
     "metadata": {},
     "output_type": "display_data"
    }
   ],
   "source": [
    "import matplotlib.pyplot as plt\n",
    "\n",
    "# b+ is for \"blue cross\"\n",
    "plt.plot(epochs, original_val_loss, 'b+', label='Original model')\n",
    "# \"bo\" is for \"blue dot\"\n",
    "plt.plot(epochs, smaller_model_val_loss, 'bo', label='Smaller model')\n",
    "plt.xlabel('Epochs')\n",
    "plt.ylabel('Validation loss')\n",
    "plt.legend()\n",
    "\n",
    "plt.show()"
   ]
  },
  {
   "cell_type": "markdown",
   "metadata": {},
   "source": [
    "\n",
    "As you can see, the smaller network starts overfitting later than the reference one (after 6 epochs rather than 4) and its performance \n",
    "degrades much more slowly once it starts overfitting.\n",
    "\n",
    "Now, for kicks, let's add to this benchmark a network that has much more capacity, far more than the problem would warrant:"
   ]
  },
  {
   "cell_type": "code",
   "execution_count": 9,
   "metadata": {
    "collapsed": true
   },
   "outputs": [],
   "source": [
    "bigger_model = models.Sequential()\n",
    "bigger_model.add(layers.Dense(512, activation='relu', input_shape=(10000,)))\n",
    "bigger_model.add(layers.Dense(512, activation='relu'))\n",
    "bigger_model.add(layers.Dense(1, activation='sigmoid'))\n",
    "\n",
    "bigger_model.compile(optimizer='rmsprop',\n",
    "                     loss='binary_crossentropy',\n",
    "                     metrics=['acc'])"
   ]
  },
  {
   "cell_type": "code",
   "execution_count": 10,
   "metadata": {},
   "outputs": [
    {
     "name": "stdout",
     "output_type": "stream",
     "text": [
      "Train on 25000 samples, validate on 25000 samples\n",
      "Epoch 1/20\n",
      "25000/25000 [==============================] - 6s 244us/step - loss: 0.4658 - acc: 0.7941 - val_loss: 0.2858 - val_acc: 0.8869\n",
      "Epoch 2/20\n",
      "25000/25000 [==============================] - 6s 227us/step - loss: 0.2247 - acc: 0.9090 - val_loss: 0.3061 - val_acc: 0.8748\n",
      "Epoch 3/20\n",
      "25000/25000 [==============================] - 6s 227us/step - loss: 0.1274 - acc: 0.9534 - val_loss: 0.3637 - val_acc: 0.8808\n",
      "Epoch 4/20\n",
      "25000/25000 [==============================] - 6s 225us/step - loss: 0.0615 - acc: 0.9794 - val_loss: 0.4423 - val_acc: 0.8810\n",
      "Epoch 5/20\n",
      "25000/25000 [==============================] - 6s 230us/step - loss: 0.0768 - acc: 0.9872 - val_loss: 0.4939 - val_acc: 0.8799\n",
      "Epoch 6/20\n",
      "25000/25000 [==============================] - 6s 230us/step - loss: 0.0580 - acc: 0.9895 - val_loss: 0.4779 - val_acc: 0.8797\n",
      "Epoch 7/20\n",
      "25000/25000 [==============================] - 6s 228us/step - loss: 0.0018 - acc: 0.9998 - val_loss: 0.6633 - val_acc: 0.8806\n",
      "Epoch 8/20\n",
      "25000/25000 [==============================] - 6s 227us/step - loss: 1.8267e-04 - acc: 1.0000 - val_loss: 0.8165 - val_acc: 0.8796\n",
      "Epoch 9/20\n",
      "25000/25000 [==============================] - 6s 227us/step - loss: 0.1000 - acc: 0.9910 - val_loss: 0.8008 - val_acc: 0.8808\n",
      "Epoch 10/20\n",
      "25000/25000 [==============================] - 6s 226us/step - loss: 2.9243e-05 - acc: 1.0000 - val_loss: 0.8412 - val_acc: 0.8802\n",
      "Epoch 11/20\n",
      "25000/25000 [==============================] - 6s 226us/step - loss: 6.8909e-06 - acc: 1.0000 - val_loss: 0.8910 - val_acc: 0.8800\n",
      "Epoch 12/20\n",
      "25000/25000 [==============================] - 6s 227us/step - loss: 2.3476e-06 - acc: 1.0000 - val_loss: 0.9517 - val_acc: 0.8796\n",
      "Epoch 13/20\n",
      "25000/25000 [==============================] - 6s 231us/step - loss: 6.4972e-07 - acc: 1.0000 - val_loss: 1.0271 - val_acc: 0.8796\n",
      "Epoch 14/20\n",
      "25000/25000 [==============================] - 6s 222us/step - loss: 2.1043e-07 - acc: 1.0000 - val_loss: 1.0716 - val_acc: 0.8799\n",
      "Epoch 15/20\n",
      "25000/25000 [==============================] - 6s 228us/step - loss: 1.3286e-07 - acc: 1.0000 - val_loss: 1.1001 - val_acc: 0.8800\n",
      "Epoch 16/20\n",
      "25000/25000 [==============================] - 6s 228us/step - loss: 1.1921e-07 - acc: 1.0000 - val_loss: 1.1149 - val_acc: 0.8801\n",
      "Epoch 17/20\n",
      "25000/25000 [==============================] - 6s 226us/step - loss: 1.1502e-07 - acc: 1.0000 - val_loss: 1.1233 - val_acc: 0.8803\n",
      "Epoch 18/20\n",
      "25000/25000 [==============================] - 6s 225us/step - loss: 1.1308e-07 - acc: 1.0000 - val_loss: 1.1284 - val_acc: 0.8798\n",
      "Epoch 19/20\n",
      "25000/25000 [==============================] - 6s 224us/step - loss: 1.1208e-07 - acc: 1.0000 - val_loss: 1.1336 - val_acc: 0.8798\n",
      "Epoch 20/20\n",
      "25000/25000 [==============================] - 6s 226us/step - loss: 1.1148e-07 - acc: 1.0000 - val_loss: 1.1372 - val_acc: 0.8798\n"
     ]
    }
   ],
   "source": [
    "bigger_model_hist = bigger_model.fit(x_train, y_train,\n",
    "                                     epochs=20,\n",
    "                                     batch_size=512,\n",
    "                                     validation_data=(x_test, y_test))"
   ]
  },
  {
   "cell_type": "markdown",
   "metadata": {},
   "source": [
    "Here's how the bigger network fares compared to the reference one. The dots are the validation loss values of the bigger network, and the \n",
    "crosses are the initial network."
   ]
  },
  {
   "cell_type": "code",
   "execution_count": 11,
   "metadata": {},
   "outputs": [
    {
     "data": {
      "image/png": "[encoded data removed]",
      "text/plain": [
       "<matplotlib.figure.Figure at 0x266be7fa5c0>"
      ]
     },
     "metadata": {},
     "output_type": "display_data"
    }
   ],
   "source": [
    "bigger_model_val_loss = bigger_model_hist.history['val_loss']\n",
    "\n",
    "plt.plot(epochs, original_val_loss, 'b+', label='Original model')\n",
    "plt.plot(epochs, bigger_model_val_loss, 'bo', label='Bigger model')\n",
    "plt.xlabel('Epochs')\n",
    "plt.ylabel('Validation loss')\n",
    "plt.legend()\n",
    "\n",
    "plt.show()"
   ]
  },
  {
   "cell_type": "markdown",
   "metadata": {},
   "source": [
    "\n",
    "The bigger network starts overfitting almost right away, after just one epoch, and overfits much more severely. Its validation loss is also \n",
    "more noisy.\n",
    "\n",
    "Meanwhile, here are the training losses for our two networks:"
   ]
  },
  {
   "cell_type": "code",
   "execution_count": 12,
   "metadata": {},
   "outputs": [
    {
     "data": {
      "image/png": "[encoded data removed]",
      "text/plain": [
       "<matplotlib.figure.Figure at 0x266be7fad30>"
      ]
     },
     "metadata": {},
     "output_type": "display_data"
    }
   ],
   "source": [
    "original_train_loss = original_hist.history['loss']\n",
    "bigger_model_train_loss = bigger_model_hist.history['loss']\n",
    "\n",
    "plt.plot(epochs, original_train_loss, 'b+', label='Original model')\n",
    "plt.plot(epochs, bigger_model_train_loss, 'bo', label='Bigger model')\n",
    "plt.xlabel('Epochs')\n",
    "plt.ylabel('Training loss')\n",
    "plt.legend()\n",
    "\n",
    "plt.show()"
   ]
  },
  {
   "cell_type": "markdown",
   "metadata": {},
   "source": [
    "As you can see, the bigger network gets its training loss near zero very quickly. The more capacity the network has, the quicker it will be \n",
    "able to model the training data (resulting in a low training loss), but the more susceptible it is to overfitting (resulting in a large \n",
    "difference between the training and validation loss)."
   ]
  },
  {
   "cell_type": "markdown",
   "metadata": {},
   "source": [
    "## Adding weight regularization\n",
    "\n",
    "\n",
    "You may be familiar with _Occam's Razor_ principle: given two explanations for something, the explanation most likely to be correct is the \n",
    "\"simplest\" one, the one that makes the least amount of assumptions. This also applies to the models learned by neural networks: given some \n",
    "training data and a network architecture, there are multiple sets of weights values (multiple _models_) that could explain the data, and \n",
    "simpler models are less likely to overfit than complex ones.\n",
    "\n",
    "A \"simple model\" in this context is a model where the distribution of parameter values has less entropy (or a model with fewer \n",
    "parameters altogether, as we saw in the section above). Thus a common way to mitigate overfitting is to put constraints on the complexity \n",
    "of a network by forcing its weights to only take small values, which makes the distribution of weight values more \"regular\". This is called \n",
    "\"weight regularization\", and it is done by adding to the loss function of the network a _cost_ associated with having large weights. This \n",
    "cost comes in two flavors:\n",
    "\n",
    "* L1 regularization, where the cost added is proportional to the _absolute value of the weights coefficients_ (i.e. to what is called the \n",
    "\"L1 norm\" of the weights).\n",
    "* L2 regularization, where the cost added is proportional to the _square of the value of the weights coefficients_ (i.e. to what is called \n",
    "the \"L2 norm\" of the weights). L2 regularization is also called _weight decay_ in the context of neural networks. Don't let the different \n",
    "name confuse you: weight decay is mathematically the exact same as L2 regularization.\n",
    "\n",
    "In Keras, weight regularization is added by passing _weight regularizer instances_ to layers as keyword arguments. Let's add L2 weight \n",
    "regularization to our movie review classification network:"
   ]
  },
  {
   "cell_type": "code",
   "execution_count": 13,
   "metadata": {
    "collapsed": true
   },
   "outputs": [],
   "source": [
    "from keras import regularizers\n",
    "\n",
    "l2_model = models.Sequential()\n",
    "l2_model.add(layers.Dense(16, kernel_regularizer=regularizers.l2(0.001),\n",
    "                          activation='relu', input_shape=(10000,)))\n",
    "l2_model.add(layers.Dense(16, kernel_regularizer=regularizers.l2(0.001),\n",
    "                          activation='relu'))\n",
    "l2_model.add(layers.Dense(1, activation='sigmoid'))"
   ]
  },
  {
   "cell_type": "code",
   "execution_count": 14,
   "metadata": {
    "collapsed": true
   },
   "outputs": [],
   "source": [
    "l2_model.compile(optimizer='rmsprop',\n",
    "                 loss='binary_crossentropy',\n",
    "                 metrics=['acc'])"
   ]
  },
  {
   "cell_type": "markdown",
   "metadata": {},
   "source": [
    "`l2(0.001)` means that every coefficient in the weight matrix of the layer will add `0.001 * weight_coefficient_value` to the total loss of \n",
    "the network. Note that because this penalty is _only added at training time_, the loss for this network will be much higher at training \n",
    "than at test time.\n",
    "\n",
    "Here's the impact of our L2 regularization penalty:"
   ]
  },
  {
   "cell_type": "code",
   "execution_count": 15,
   "metadata": {},
   "outputs": [
    {
     "name": "stdout",
     "output_type": "stream",
     "text": [
      "Train on 25000 samples, validate on 25000 samples\n",
      "Epoch 1/20\n",
      "25000/25000 [==============================] - 6s 241us/step - loss: 0.4884 - acc: 0.8098 - val_loss: 0.3877 - val_acc: 0.8671\n",
      "Epoch 2/20\n",
      "25000/25000 [==============================] - 5s 215us/step - loss: 0.3094 - acc: 0.9060 - val_loss: 0.3300 - val_acc: 0.8900\n",
      "Epoch 3/20\n",
      "25000/25000 [==============================] - 5s 214us/step - loss: 0.2649 - acc: 0.9208 - val_loss: 0.3322 - val_acc: 0.8862\n",
      "Epoch 4/20\n",
      "25000/25000 [==============================] - 5s 214us/step - loss: 0.2459 - acc: 0.9287 - val_loss: 0.3421 - val_acc: 0.8822\n",
      "Epoch 5/20\n",
      "25000/25000 [==============================] - 5s 215us/step - loss: 0.2325 - acc: 0.9352 - val_loss: 0.3850 - val_acc: 0.8671\n",
      "Epoch 6/20\n",
      "25000/25000 [==============================] - 5s 214us/step - loss: 0.2239 - acc: 0.9385 - val_loss: 0.3730 - val_acc: 0.8734\n",
      "Epoch 7/20\n",
      "25000/25000 [==============================] - 5s 214us/step - loss: 0.2174 - acc: 0.9406 - val_loss: 0.3793 - val_acc: 0.8724\n",
      "Epoch 8/20\n",
      "25000/25000 [==============================] - 5s 213us/step - loss: 0.2113 - acc: 0.9445 - val_loss: 0.3759 - val_acc: 0.8749\n",
      "Epoch 9/20\n",
      "25000/25000 [==============================] - 5s 212us/step - loss: 0.2050 - acc: 0.9468 - val_loss: 0.3770 - val_acc: 0.8746\n",
      "Epoch 10/20\n",
      "25000/25000 [==============================] - 5s 214us/step - loss: 0.2020 - acc: 0.9488 - val_loss: 0.3829 - val_acc: 0.8746\n",
      "Epoch 11/20\n",
      "25000/25000 [==============================] - 5s 214us/step - loss: 0.1959 - acc: 0.9496 - val_loss: 0.3844 - val_acc: 0.8759\n",
      "Epoch 12/20\n",
      "25000/25000 [==============================] - 5s 214us/step - loss: 0.1942 - acc: 0.9507 - val_loss: 0.3988 - val_acc: 0.8720\n",
      "Epoch 13/20\n",
      "25000/25000 [==============================] - 5s 213us/step - loss: 0.1905 - acc: 0.9520 - val_loss: 0.3967 - val_acc: 0.8736\n",
      "Epoch 14/20\n",
      "25000/25000 [==============================] - 5s 215us/step - loss: 0.1849 - acc: 0.9551 - val_loss: 0.4437 - val_acc: 0.8599\n",
      "Epoch 15/20\n",
      "25000/25000 [==============================] - 5s 214us/step - loss: 0.1869 - acc: 0.9533 - val_loss: 0.4328 - val_acc: 0.8629\n",
      "Epoch 16/20\n",
      "25000/25000 [==============================] - 5s 214us/step - loss: 0.1800 - acc: 0.9575 - val_loss: 0.4341 - val_acc: 0.8659\n",
      "Epoch 17/20\n",
      "25000/25000 [==============================] - 5s 214us/step - loss: 0.1758 - acc: 0.9590 - val_loss: 0.4182 - val_acc: 0.8700\n",
      "Epoch 18/20\n",
      "25000/25000 [==============================] - 5s 213us/step - loss: 0.1766 - acc: 0.9579 - val_loss: 0.4331 - val_acc: 0.8662\n",
      "Epoch 19/20\n",
      "25000/25000 [==============================] - 5s 213us/step - loss: 0.1678 - acc: 0.9621 - val_loss: 0.4488 - val_acc: 0.8610\n",
      "Epoch 20/20\n",
      "25000/25000 [==============================] - 5s 214us/step - loss: 0.1672 - acc: 0.9617 - val_loss: 0.4425 - val_acc: 0.8637\n"
     ]
    }
   ],
   "source": [
    "l2_model_hist = l2_model.fit(x_train, y_train,\n",
    "                             epochs=20,\n",
    "                             batch_size=512,\n",
    "                             validation_data=(x_test, y_test))"
   ]
  },
  {
   "cell_type": "code",
   "execution_count": 16,
   "metadata": {},
   "outputs": [
    {
     "data": {
      "image/png": "[encoded data removed]",
      "text/plain": [
       "<matplotlib.figure.Figure at 0x266be250b38>"
      ]
     },
     "metadata": {},
     "output_type": "display_data"
    }
   ],
   "source": [
    "l2_model_val_loss = l2_model_hist.history['val_loss']\n",
    "\n",
    "plt.plot(epochs, original_val_loss, 'b+', label='Original model')\n",
    "plt.plot(epochs, l2_model_val_loss, 'bo', label='L2-regularized model')\n",
    "plt.xlabel('Epochs')\n",
    "plt.ylabel('Validation loss')\n",
    "plt.legend()\n",
    "\n",
    "plt.show()"
   ]
  },
  {
   "cell_type": "markdown",
   "metadata": {},
   "source": [
    "\n",
    "\n",
    "As you can see, the model with L2 regularization (dots) has become much more resistant to overfitting than the reference model (crosses), \n",
    "even though both models have the same number of parameters.\n",
    "\n",
    "As alternatives to L2 regularization, you could use one of the following Keras weight regularizers:"
   ]
  },
  {
   "cell_type": "code",
   "execution_count": 17,
   "metadata": {},
   "outputs": [
    {
     "data": {
      "text/plain": [
       "<keras.regularizers.L1L2 at 0x266bea07710>"
      ]
     },
     "execution_count": 17,
     "metadata": {},
     "output_type": "execute_result"
    }
   ],
   "source": [
    "from keras import regularizers\n",
    "\n",
    "# L1 regularization\n",
    "regularizers.l1(0.001)\n",
    "\n",
    "# L1 and L2 regularization at the same time\n",
    "regularizers.l1_l2(l1=0.001, l2=0.001)"
   ]
  },
  {
   "cell_type": "markdown",
   "metadata": {},
   "source": [
    "## Adding dropout\n",
    "\n",
    "\n",
    "Dropout is one of the most effective and most commonly used regularization techniques for neural networks, developed by Hinton and his \n",
    "students at the University of Toronto. Dropout, applied to a layer, consists of randomly \"dropping out\" (i.e. setting to zero) a number of \n",
    "output features of the layer during training. Let's say a given layer would normally have returned a vector `[0.2, 0.5, 1.3, 0.8, 1.1]` for a \n",
    "given input sample during training; after applying dropout, this vector will have a few zero entries distributed at random, e.g. `[0, 0.5, \n",
    "1.3, 0, 1.1]`. The \"dropout rate\" is the fraction of the features that are being zeroed-out; it is usually set between 0.2 and 0.5. At test \n",
    "time, no units are dropped out, and instead the layer's output values are scaled down by a factor equal to the dropout rate, so as to \n",
    "balance for the fact that more units are active than at training time.\n",
    "\n",
    "Consider a Numpy matrix containing the output of a layer, `layer_output`, of shape `(batch_size, features)`. At training time, we would be \n",
    "zero-ing out at random a fraction of the values in the matrix:"
   ]
  },
  {
   "cell_type": "code",
   "execution_count": null,
   "metadata": {
    "collapsed": true
   },
   "outputs": [],
   "source": [
    "# At training time: we drop out 50% of the units in the output\n",
    "layer_output *= np.randint(0, high=2, size=layer_output.shape)"
   ]
  },
  {
   "cell_type": "markdown",
   "metadata": {},
   "source": [
    "\n",
    "At test time, we would be scaling the output down by the dropout rate. Here we scale by 0.5 (because we were previous dropping half the \n",
    "units):"
   ]
  },
  {
   "cell_type": "code",
   "execution_count": null,
   "metadata": {
    "collapsed": true
   },
   "outputs": [],
   "source": [
    "# At test time:\n",
    "layer_output *= 0.5"
   ]
  },
  {
   "cell_type": "markdown",
   "metadata": {},
   "source": [
    "\n",
    "Note that this process can be implemented by doing both operations at training time and leaving the output unchanged at test time, which is \n",
    "often the way it is implemented in practice:"
   ]
  },
  {
   "cell_type": "code",
   "execution_count": null,
   "metadata": {
    "collapsed": true
   },
   "outputs": [],
   "source": [
    "# At training time:\n",
    "layer_output *= np.randint(0, high=2, size=layer_output.shape)\n",
    "# Note that we are scaling *up* rather scaling *down* in this case\n",
    "layer_output /= 0.5"
   ]
  },
  {
   "cell_type": "markdown",
   "metadata": {},
   "source": [
    "\n",
    "This technique may seem strange and arbitrary. Why would this help reduce overfitting? Geoff Hinton has said that he was inspired, among \n",
    "other things, by a fraud prevention mechanism used by banks -- in his own words: _\"I went to my bank. The tellers kept changing and I asked \n",
    "one of them why. He said he didn’t know but they got moved around a lot. I figured it must be because it would require cooperation \n",
    "between employees to successfully defraud the bank. This made me realize that randomly removing a different subset of neurons on each \n",
    "example would prevent conspiracies and thus reduce overfitting\"_.\n",
    "\n",
    "The core idea is that introducing noise in the output values of a layer can break up happenstance patterns that are not significant (what \n",
    "Hinton refers to as \"conspiracies\"), which the network would start memorizing if no noise was present. \n",
    "\n",
    "In Keras you can introduce dropout in a network via the `Dropout` layer, which gets applied to the output of layer right before it, e.g.:"
   ]
  },
  {
   "cell_type": "markdown",
   "metadata": {
    "collapsed": true
   },
   "source": [
    "model.add(layers.Dropout(0.5))"
   ]
  },
  {
   "cell_type": "markdown",
   "metadata": {},
   "source": [
    "Let's add two `Dropout` layers in our IMDB network to see how well they do at reducing overfitting:"
   ]
  },
  {
   "cell_type": "code",
   "execution_count": 22,
   "metadata": {
    "collapsed": true
   },
   "outputs": [],
   "source": [
    "dpt_model = models.Sequential()\n",
    "dpt_model.add(layers.Dense(16, activation='relu', input_shape=(10000,)))\n",
    "dpt_model.add(layers.Dropout(0.5))\n",
    "dpt_model.add(layers.Dense(16, activation='relu'))\n",
    "dpt_model.add(layers.Dropout(0.5))\n",
    "dpt_model.add(layers.Dense(1, activation='sigmoid'))\n",
    "\n",
    "dpt_model.compile(optimizer='rmsprop',\n",
    "                  loss='binary_crossentropy',\n",
    "                  metrics=['acc'])"
   ]
  },
  {
   "cell_type": "code",
   "execution_count": 23,
   "metadata": {},
   "outputs": [
    {
     "name": "stdout",
     "output_type": "stream",
     "text": [
      "Train on 25000 samples, validate on 25000 samples\n",
      "Epoch 1/20\n",
      "25000/25000 [==============================] - 6s 237us/step - loss: 0.5953 - acc: 0.6774 - val_loss: 0.4369 - val_acc: 0.8622\n",
      "Epoch 2/20\n",
      "25000/25000 [==============================] - 5s 216us/step - loss: 0.4392 - acc: 0.8151 - val_loss: 0.3468 - val_acc: 0.8726\n",
      "Epoch 3/20\n",
      "25000/25000 [==============================] - 5s 217us/step - loss: 0.3498 - acc: 0.8704 - val_loss: 0.2933 - val_acc: 0.8854\n",
      "Epoch 4/20\n",
      "25000/25000 [==============================] - 5s 214us/step - loss: 0.2926 - acc: 0.8961 - val_loss: 0.2777 - val_acc: 0.8886\n",
      "Epoch 5/20\n",
      "25000/25000 [==============================] - 5s 218us/step - loss: 0.2578 - acc: 0.9118 - val_loss: 0.2799 - val_acc: 0.8895\n",
      "Epoch 6/20\n",
      "25000/25000 [==============================] - 5s 216us/step - loss: 0.2270 - acc: 0.9242 - val_loss: 0.2889 - val_acc: 0.8877\n",
      "Epoch 7/20\n",
      "25000/25000 [==============================] - 5s 215us/step - loss: 0.2007 - acc: 0.9341 - val_loss: 0.3163 - val_acc: 0.8848\n",
      "Epoch 8/20\n",
      "25000/25000 [==============================] - 5s 214us/step - loss: 0.1801 - acc: 0.9420 - val_loss: 0.3325 - val_acc: 0.8831\n",
      "Epoch 9/20\n",
      "25000/25000 [==============================] - 5s 216us/step - loss: 0.1753 - acc: 0.9444 - val_loss: 0.3445 - val_acc: 0.8850\n",
      "Epoch 10/20\n",
      "25000/25000 [==============================] - 5s 219us/step - loss: 0.1552 - acc: 0.9492 - val_loss: 0.3666 - val_acc: 0.8828\n",
      "Epoch 11/20\n",
      "25000/25000 [==============================] - 5s 216us/step - loss: 0.1469 - acc: 0.9520 - val_loss: 0.3929 - val_acc: 0.8818\n",
      "Epoch 12/20\n",
      "25000/25000 [==============================] - 5s 217us/step - loss: 0.1381 - acc: 0.9557 - val_loss: 0.4308 - val_acc: 0.8776\n",
      "Epoch 13/20\n",
      "25000/25000 [==============================] - 5s 215us/step - loss: 0.1288 - acc: 0.9582 - val_loss: 0.4314 - val_acc: 0.8762\n",
      "Epoch 14/20\n",
      "25000/25000 [==============================] - 5s 213us/step - loss: 0.1222 - acc: 0.9594 - val_loss: 0.4437 - val_acc: 0.8784\n",
      "Epoch 15/20\n",
      "25000/25000 [==============================] - 6s 220us/step - loss: 0.1183 - acc: 0.9624 - val_loss: 0.4776 - val_acc: 0.8750\n",
      "Epoch 16/20\n",
      "25000/25000 [==============================] - 6s 225us/step - loss: 0.1157 - acc: 0.9637 - val_loss: 0.5125 - val_acc: 0.8745\n",
      "Epoch 17/20\n",
      "25000/25000 [==============================] - 6s 225us/step - loss: 0.1085 - acc: 0.9665 - val_loss: 0.5313 - val_acc: 0.8762\n",
      "Epoch 18/20\n",
      "25000/25000 [==============================] - 6s 223us/step - loss: 0.1133 - acc: 0.9654 - val_loss: 0.5350 - val_acc: 0.8733\n",
      "Epoch 19/20\n",
      "25000/25000 [==============================] - 6s 224us/step - loss: 0.1056 - acc: 0.9672 - val_loss: 0.5810 - val_acc: 0.8717\n",
      "Epoch 20/20\n",
      "25000/25000 [==============================] - 6s 222us/step - loss: 0.1052 - acc: 0.9678 - val_loss: 0.5581 - val_acc: 0.8686\n"
     ]
    }
   ],
   "source": [
    "dpt_model_hist = dpt_model.fit(x_train, y_train,\n",
    "                               epochs=20,\n",
    "                               batch_size=512,\n",
    "                               validation_data=(x_test, y_test))"
   ]
  },
  {
   "cell_type": "markdown",
   "metadata": {},
   "source": [
    "Let's plot the results:"
   ]
  },
  {
   "cell_type": "code",
   "execution_count": 24,
   "metadata": {},
   "outputs": [
    {
     "data": {
      "image/png": "[encoded data removed]",
      "text/plain": [
       "<matplotlib.figure.Figure at 0x266bf502198>"
      ]
     },
     "metadata": {},
     "output_type": "display_data"
    }
   ],
   "source": [
    "dpt_model_val_loss = dpt_model_hist.history['val_loss']\n",
    "\n",
    "plt.plot(epochs, original_val_loss, 'b+', label='Original model')\n",
    "plt.plot(epochs, dpt_model_val_loss, 'bo', label='Dropout-regularized model')\n",
    "plt.xlabel('Epochs')\n",
    "plt.ylabel('Validation loss')\n",
    "plt.legend()\n",
    "\n",
    "plt.show()"
   ]
  },
  {
   "cell_type": "markdown",
   "metadata": {},
   "source": [
    "\n",
    "Again, a clear improvement over the reference network.\n",
    "\n",
    "To recap: here the most common ways to prevent overfitting in neural networks:\n",
    "\n",
    "* Getting more training data.\n",
    "* Reducing the capacity of the network.\n",
    "* Adding weight regularization.\n",
    "* Adding dropout."
   ]
  }
 ],
 "metadata": {
  "kernelspec": {
   "display_name": "Python 3",
   "language": "python",
   "name": "python3"
  },
  "language_info": {
   "codemirror_mode": {
    "name": "ipython",
    "version": 3
   },
   "file_extension": ".py",
   "mimetype": "text/x-python",
   "name": "python",
   "nbconvert_exporter": "python",
   "pygments_lexer": "ipython3",
   "version": "3.6.3"
  }
 },
 "nbformat": 4,
 "nbformat_minor": 2
}
